{
  "cells": [
    {
      "cell_type": "code",
      "source": [
        "from google.colab import drive\n",
        "drive.mount('/content/drive')"
      ],
      "metadata": {
        "id": "4nihi0R7tXyU"
      },
      "id": "4nihi0R7tXyU",
      "execution_count": null,
      "outputs": []
    },
    {
      "cell_type": "markdown",
      "id": "a1e5c2a5-46eb-42fd-b550-2a052546857e",
      "metadata": {
        "id": "a1e5c2a5-46eb-42fd-b550-2a052546857e"
      },
      "source": [
        "## Instalowanie TTS\n"
      ]
    },
    {
      "cell_type": "code",
      "execution_count": null,
      "id": "fa2aec77",
      "metadata": {
        "id": "fa2aec77"
      },
      "outputs": [],
      "source": [
        "! pip install -U pip\n",
        "! pip install TTS"
      ]
    },
    {
      "cell_type": "markdown",
      "id": "8c07a273",
      "metadata": {
        "id": "8c07a273"
      },
      "source": [
        "## lista dostępnych modeli TTS\n",
        "\n"
      ]
    },
    {
      "cell_type": "code",
      "execution_count": null,
      "id": "608d203f",
      "metadata": {
        "id": "608d203f"
      },
      "outputs": [],
      "source": [
        "! tts --list_models"
      ]
    },
    {
      "cell_type": "markdown",
      "id": "ed9dd7ab",
      "metadata": {
        "id": "ed9dd7ab"
      },
      "source": [
        "## Uruchomienie modeli\n",
        "\n"
      ]
    },
    {
      "cell_type": "code",
      "execution_count": null,
      "id": "cc9e4608-16ec-4dcd-bd6b-bd10d62286f8",
      "metadata": {
        "id": "cc9e4608-16ec-4dcd-bd6b-bd10d62286f8"
      },
      "outputs": [],
      "source": [
        "!tts --text \"On a sunny day, I love to walk through the park, listening to the birds singing and watching the flowers bloom\" \\\n",
        "--model_name \"tts_models/en/ljspeech/glow-tts\" \\\n",
        "--out_path output.wav\n"
      ]
    },
    {
      "cell_type": "code",
      "source": [
        " !tts --text \"On a sunny day, I love to walk through the park, listening to the birds singing and watching the flowers bloom\" \\\n",
        "      --model_path \"/content/drive/MyDrive/original/tts_train_dir/run-December-06-2023_01+44AM-0000000/best_model.pth\" \\\n",
        "      --config_path \"/content/drive/MyDrive/original/tts_train_dir/run-December-06-2023_01+44AM-0000000/config.json\" \\\n",
        "      --out_path out.wav"
      ],
      "metadata": {
        "id": "O11TeO4zXTpa"
      },
      "id": "O11TeO4zXTpa",
      "execution_count": null,
      "outputs": []
    },
    {
      "cell_type": "code",
      "source": [
        "from google.colab import files\n",
        "files.download('out.wav')"
      ],
      "metadata": {
        "id": "rBAesyAfnnpR",
        "outputId": "0ee24208-9a9e-4def-8923-72c1447a4379",
        "colab": {
          "base_uri": "https://localhost:8080/",
          "height": 17
        }
      },
      "id": "rBAesyAfnnpR",
      "execution_count": null,
      "outputs": [
        {
          "output_type": "display_data",
          "data": {
            "text/plain": [
              "<IPython.core.display.Javascript object>"
            ],
            "application/javascript": [
              "\n",
              "    async function download(id, filename, size) {\n",
              "      if (!google.colab.kernel.accessAllowed) {\n",
              "        return;\n",
              "      }\n",
              "      const div = document.createElement('div');\n",
              "      const label = document.createElement('label');\n",
              "      label.textContent = `Downloading \"${filename}\": `;\n",
              "      div.appendChild(label);\n",
              "      const progress = document.createElement('progress');\n",
              "      progress.max = size;\n",
              "      div.appendChild(progress);\n",
              "      document.body.appendChild(div);\n",
              "\n",
              "      const buffers = [];\n",
              "      let downloaded = 0;\n",
              "\n",
              "      const channel = await google.colab.kernel.comms.open(id);\n",
              "      // Send a message to notify the kernel that we're ready.\n",
              "      channel.send({})\n",
              "\n",
              "      for await (const message of channel.messages) {\n",
              "        // Send a message to notify the kernel that we're ready.\n",
              "        channel.send({})\n",
              "        if (message.buffers) {\n",
              "          for (const buffer of message.buffers) {\n",
              "            buffers.push(buffer);\n",
              "            downloaded += buffer.byteLength;\n",
              "            progress.value = downloaded;\n",
              "          }\n",
              "        }\n",
              "      }\n",
              "      const blob = new Blob(buffers, {type: 'application/binary'});\n",
              "      const a = document.createElement('a');\n",
              "      a.href = window.URL.createObjectURL(blob);\n",
              "      a.download = filename;\n",
              "      div.appendChild(a);\n",
              "      a.click();\n",
              "      div.remove();\n",
              "    }\n",
              "  "
            ]
          },
          "metadata": {}
        },
        {
          "output_type": "display_data",
          "data": {
            "text/plain": [
              "<IPython.core.display.Javascript object>"
            ],
            "application/javascript": [
              "download(\"download_4f1c826d-5b58-43ec-b335-3d3585946de3\", \"out.wav\", 61516)"
            ]
          },
          "metadata": {}
        }
      ]
    },
    {
      "cell_type": "markdown",
      "id": "0ca2cb14-1aba-400e-a219-8ce44d9410be",
      "metadata": {
        "id": "0ca2cb14-1aba-400e-a219-8ce44d9410be"
      },
      "source": [
        "## Odtworzenie pliku wyjściowego\n",
        "\n",
        "\n"
      ]
    },
    {
      "cell_type": "code",
      "execution_count": null,
      "id": "5fe63ef4-9284-4461-9dda-1ca7483a8f9b",
      "metadata": {
        "id": "5fe63ef4-9284-4461-9dda-1ca7483a8f9b"
      },
      "outputs": [],
      "source": [
        "import IPython\n",
        "IPython.display.Audio(\"out.wav\")"
      ]
    }
  ],
  "metadata": {
    "kernelspec": {
      "display_name": "Python 3 (ipykernel)",
      "language": "python",
      "name": "python3"
    },
    "language_info": {
      "codemirror_mode": {
        "name": "ipython",
        "version": 3
      },
      "file_extension": ".py",
      "mimetype": "text/x-python",
      "name": "python",
      "nbconvert_exporter": "python",
      "pygments_lexer": "ipython3",
      "version": "3.8.10"
    },
    "colab": {
      "provenance": []
    }
  },
  "nbformat": 4,
  "nbformat_minor": 5
}
